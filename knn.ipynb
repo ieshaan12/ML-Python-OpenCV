{
 "cells": [
  {
   "cell_type": "code",
   "execution_count": 2,
   "metadata": {},
   "outputs": [],
   "source": [
    "import numpy as np\n",
    "import matplotlib.pyplot as plt\n",
    "import cv2\n",
    "import matplotlib as mpl\n"
   ]
  },
  {
   "cell_type": "code",
   "execution_count": 3,
   "metadata": {},
   "outputs": [],
   "source": [
    "plt.style.use('ggplot')"
   ]
  },
  {
   "cell_type": "code",
   "execution_count": 4,
   "metadata": {},
   "outputs": [],
   "source": [
    "np.random.seed(42)"
   ]
  },
  {
   "cell_type": "code",
   "execution_count": 28,
   "metadata": {},
   "outputs": [],
   "source": [
    "def gen_data(num_samples,num_features=2):\n",
    "    point_feat=(num_samples,num_features)\n",
    "    data=np.random.randint(0,100,size=point_feat).astype(np.float32)\n",
    "    label=np.random.randint(0,2,size=(num_samples,1)).astype(np.float32)\n",
    "    return data,label\n"
   ]
  },
  {
   "cell_type": "code",
   "execution_count": 29,
   "metadata": {},
   "outputs": [],
   "source": [
    "train_data,labels=gen_data(20)"
   ]
  },
  {
   "cell_type": "code",
   "execution_count": 30,
   "metadata": {},
   "outputs": [
    {
     "data": {
      "text/plain": [
       "array([[ 8., 89.],\n",
       "       [52.,  1.],\n",
       "       [83., 91.],\n",
       "       [59., 70.],\n",
       "       [43.,  7.],\n",
       "       [46., 34.],\n",
       "       [77., 80.],\n",
       "       [35., 49.],\n",
       "       [ 3.,  1.],\n",
       "       [ 5., 53.],\n",
       "       [ 3., 53.],\n",
       "       [92., 62.],\n",
       "       [17., 89.],\n",
       "       [43., 33.],\n",
       "       [73., 61.],\n",
       "       [99., 13.],\n",
       "       [94., 47.],\n",
       "       [14., 71.],\n",
       "       [77., 86.],\n",
       "       [61., 39.]], dtype=float32)"
      ]
     },
     "execution_count": 30,
     "metadata": {},
     "output_type": "execute_result"
    }
   ],
   "source": [
    "train_data"
   ]
  },
  {
   "cell_type": "code",
   "execution_count": 31,
   "metadata": {},
   "outputs": [
    {
     "data": {
      "text/plain": [
       "array([[0.],\n",
       "       [1.],\n",
       "       [0.],\n",
       "       [1.],\n",
       "       [0.],\n",
       "       [0.],\n",
       "       [1.],\n",
       "       [1.],\n",
       "       [0.],\n",
       "       [1.],\n",
       "       [1.],\n",
       "       [1.],\n",
       "       [0.],\n",
       "       [0.],\n",
       "       [0.],\n",
       "       [0.],\n",
       "       [0.],\n",
       "       [0.],\n",
       "       [0.],\n",
       "       [0.]], dtype=float32)"
      ]
     },
     "execution_count": 31,
     "metadata": {},
     "output_type": "execute_result"
    }
   ],
   "source": [
    "labels"
   ]
  },
  {
   "cell_type": "code",
   "execution_count": 9,
   "metadata": {},
   "outputs": [],
   "source": [
    "%matplotlib inline"
   ]
  },
  {
   "cell_type": "code",
   "execution_count": 32,
   "metadata": {},
   "outputs": [],
   "source": [
    "blue=train_data[labels.ravel()==0]"
   ]
  },
  {
   "cell_type": "code",
   "execution_count": 33,
   "metadata": {},
   "outputs": [],
   "source": [
    "red=train_data[labels.ravel()==1]"
   ]
  },
  {
   "cell_type": "code",
   "execution_count": 34,
   "metadata": {},
   "outputs": [
    {
     "data": {
      "text/plain": [
       "(array([[ 8., 89.],\n",
       "        [83., 91.],\n",
       "        [43.,  7.],\n",
       "        [46., 34.],\n",
       "        [ 3.,  1.],\n",
       "        [17., 89.],\n",
       "        [43., 33.],\n",
       "        [73., 61.],\n",
       "        [99., 13.],\n",
       "        [94., 47.],\n",
       "        [14., 71.],\n",
       "        [77., 86.],\n",
       "        [61., 39.]], dtype=float32), array([[52.,  1.],\n",
       "        [59., 70.],\n",
       "        [77., 80.],\n",
       "        [35., 49.],\n",
       "        [ 5., 53.],\n",
       "        [ 3., 53.],\n",
       "        [92., 62.]], dtype=float32))"
      ]
     },
     "execution_count": 34,
     "metadata": {},
     "output_type": "execute_result"
    }
   ],
   "source": [
    "blue,red\n"
   ]
  },
  {
   "cell_type": "code",
   "execution_count": 35,
   "metadata": {},
   "outputs": [],
   "source": [
    "def plot_data(all_red,all_blue):\n",
    "    plt.scatter(all_red[:,0],all_red[:,1],c='r',marker='^',s=180)\n",
    "    plt.scatter(all_blue[:,0],all_blue[:,1],c='b',marker='s',s=180)\n",
    "    plt.xlabel('feature1')\n",
    "    plt.ylabel('feature2')"
   ]
  },
  {
   "cell_type": "code",
   "execution_count": 36,
   "metadata": {},
   "outputs": [
    {
     "data": {
      "image/png": "[encoded data removed]",
      "text/plain": [
       "<Figure size 432x288 with 1 Axes>"
      ]
     },
     "metadata": {
      "needs_background": "light"
     },
     "output_type": "display_data"
    }
   ],
   "source": [
    "plot_data(red,blue)"
   ]
  },
  {
   "cell_type": "code",
   "execution_count": 37,
   "metadata": {},
   "outputs": [],
   "source": [
    "knn=cv2.ml.KNearest_create()"
   ]
  },
  {
   "cell_type": "code",
   "execution_count": 38,
   "metadata": {},
   "outputs": [
    {
     "data": {
      "text/plain": [
       "array([ True, False,  True, False,  True,  True, False, False,  True,\n",
       "       False, False, False,  True,  True,  True,  True,  True,  True,\n",
       "        True,  True])"
      ]
     },
     "execution_count": 38,
     "metadata": {},
     "output_type": "execute_result"
    }
   ],
   "source": [
    "labels.ravel()==0"
   ]
  },
  {
   "cell_type": "code",
   "execution_count": 39,
   "metadata": {},
   "outputs": [
    {
     "data": {
      "text/plain": [
       "True"
      ]
     },
     "execution_count": 39,
     "metadata": {},
     "output_type": "execute_result"
    }
   ],
   "source": [
    "knn.train(train_data, cv2.ml.ROW_SAMPLE, labels)\n"
   ]
  },
  {
   "cell_type": "code",
   "execution_count": 51,
   "metadata": {},
   "outputs": [],
   "source": [
    "newcomer,_=gen_data(1)"
   ]
  },
  {
   "cell_type": "code",
   "execution_count": 52,
   "metadata": {},
   "outputs": [
    {
     "data": {
      "text/plain": [
       "array([[10., 80.]], dtype=float32)"
      ]
     },
     "execution_count": 52,
     "metadata": {},
     "output_type": "execute_result"
    }
   ],
   "source": [
    "newcomer"
   ]
  },
  {
   "cell_type": "code",
   "execution_count": 53,
   "metadata": {},
   "outputs": [
    {
     "data": {
      "text/plain": [
       "[<matplotlib.lines.Line2D at 0x7f21c2d56198>]"
      ]
     },
     "execution_count": 53,
     "metadata": {},
     "output_type": "execute_result"
    },
    {
     "data": {
      "image/png": "[encoded data removed]",
      "text/plain": [
       "<Figure size 432x288 with 1 Axes>"
      ]
     },
     "metadata": {
      "needs_background": "light"
     },
     "output_type": "display_data"
    }
   ],
   "source": [
    "plot_data(red,blue)\n",
    "plt.plot(newcomer[0,0],newcomer[0,1],'go',markersize=14)"
   ]
  },
  {
   "cell_type": "code",
   "execution_count": 59,
   "metadata": {},
   "outputs": [
    {
     "name": "stdout",
     "output_type": "stream",
     "text": [
      "Predicted label:\t [[0.]]\n",
      "Neighbor's label:\t [[0. 0. 0. 1. 1.]]\n",
      "Distance to neighbor:\t [[ 85.  97. 130. 754. 778.]]\n"
     ]
    }
   ],
   "source": [
    "ret, results, neighbor, dist = knn.findNearest(newcomer, 5)\n",
    "print(\"Predicted label:\\t\", results)\n",
    "print(\"Neighbor's label:\\t\", neighbor)\n",
    "print(\"Distance to neighbor:\\t\", dist)"
   ]
  }
 ],
 "metadata": {
  "kernelspec": {
   "display_name": "Python 3",
   "language": "python",
   "name": "python3"
  },
  "language_info": {
   "codemirror_mode": {
    "name": "ipython",
    "version": 3
   },
   "file_extension": ".py",
   "mimetype": "text/x-python",
   "name": "python",
   "nbconvert_exporter": "python",
   "pygments_lexer": "ipython3",
   "version": "3.6.7"
  }
 },
 "nbformat": 4,
 "nbformat_minor": 2
}
